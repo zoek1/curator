{
 "cells": [
  {
   "cell_type": "code",
   "execution_count": 1,
   "id": "1f0f4a11-aba2-485b-b3b2-8ff317883e4e",
   "metadata": {},
   "outputs": [],
   "source": [
    "from bs4 import BeautifulSoup\n",
    "import requests\n",
    "import re\n",
    "import models\n",
    "import mongoengine"
   ]
  },
  {
   "cell_type": "code",
   "execution_count": 2,
   "id": "e360a81f-ed97-4a3d-a677-7a2fec8ad91b",
   "metadata": {},
   "outputs": [
    {
     "data": {
      "text/plain": [
       "'https://gitcoin.co/grants/cards_info?network=mainnet&state=activetype=all&page=1&limit=6'"
      ]
     },
     "execution_count": 2,
     "metadata": {},
     "output_type": "execute_result"
    }
   ],
   "source": [
    "options = {\n",
    " 'page': 1,\n",
    " 'limit': 15,\n",
    " 'has_next': True,\n",
    "}\n",
    "\n",
    "\n",
    "def get_grants_endpoint(**options):\n",
    "    grants_endpoint = 'https://gitcoin.co/grants/cards_info?network=mainnet&state=activetype=all'\n",
    "\n",
    "    for key, value in options.items():\n",
    "        grants_endpoint += f'&{key}={value}'\n",
    "        \n",
    "    return grants_endpoint\n",
    "    \n",
    "grants_endpoint_limited = request = get_grants_endpoint(page=1, limit=6)\n",
    "grants_endpoint_limited"
   ]
  },
  {
   "cell_type": "code",
   "execution_count": 3,
   "id": "fa4b9c4d-5ee2-4364-923c-ed7f71839363",
   "metadata": {},
   "outputs": [],
   "source": [
    "import time\n",
    "\n",
    "def get_grants(options, limit_page=10000):\n",
    "    grants = []\n",
    "    \n",
    "    while options['has_next'] and options['page'] < limit_page:\n",
    "        grants_endpoint_limited = request = get_grants_endpoint(page=options['page'], limit=options['limit'])\n",
    "        print(f'100% = ${grants_endpoint_limited}')\n",
    "        endpoint = requests.get(grants_endpoint_limited)\n",
    "        grants_json = endpoint.json()\n",
    "        grants += grants_json['grants']\n",
    "        # grant_types = grants_json['grant_types']\n",
    "        options['has_next'] = grants_json['has_next']\n",
    "        options['count'] = grants_json['count']\n",
    "        options['num_pages'] = grants_json['num_pages']\n",
    "        options['page'] += 1\n",
    "        \n",
    "        time.sleep(0.8)\n",
    "        \n",
    "    return grants"
   ]
  },
  {
   "cell_type": "code",
   "execution_count": 4,
   "id": "3f4ec09d-3b69-42dc-b6c3-4225efa76b24",
   "metadata": {},
   "outputs": [],
   "source": [
    "def convert_grant(grant):\n",
    "    return {\n",
    "        'id': grant['id'], # numeric\n",
    "        'owner': grant['admin_address'],\n",
    "        'payee': '',\n",
    "        'metaPtr': '',\n",
    "        'metadata': {\n",
    "            'name': grant['title'],\n",
    "            'description': grant['description'],\n",
    "            'image': grant['logo_url'],\n",
    "            'properties': {\n",
    "                'projectWebsite': grant['reference_url'],\n",
    "                'projectGithub': grant['github_project_url'],\n",
    "                'projectMembers': [member['fields']['handle'] for member in grant['team_members']],\n",
    "                'bannerImage': '',\n",
    "                'twitterHandle': grant['twitter_handle_1'],\n",
    "                'keywords': [category['fields']['name'] for category in grant['grant_tags']],\n",
    "                'endDate': ''\n",
    "            }\n",
    "        }   \n",
    "    }"
   ]
  },
  {
   "cell_type": "code",
   "execution_count": 5,
   "id": "815d142a-400e-4756-9ba7-7defc93ba830",
   "metadata": {},
   "outputs": [
    {
     "name": "stdout",
     "output_type": "stream",
     "text": [
      "100% = $https://gitcoin.co/grants/cards_info?network=mainnet&state=activetype=all&page=1&limit=15\n",
      "100% = $https://gitcoin.co/grants/cards_info?network=mainnet&state=activetype=all&page=2&limit=15\n",
      "100% = $https://gitcoin.co/grants/cards_info?network=mainnet&state=activetype=all&page=3&limit=15\n",
      "100% = $https://gitcoin.co/grants/cards_info?network=mainnet&state=activetype=all&page=4&limit=15\n",
      "100% = $https://gitcoin.co/grants/cards_info?network=mainnet&state=activetype=all&page=5&limit=15\n",
      "100% = $https://gitcoin.co/grants/cards_info?network=mainnet&state=activetype=all&page=6&limit=15\n",
      "100% = $https://gitcoin.co/grants/cards_info?network=mainnet&state=activetype=all&page=7&limit=15\n",
      "100% = $https://gitcoin.co/grants/cards_info?network=mainnet&state=activetype=all&page=8&limit=15\n",
      "100% = $https://gitcoin.co/grants/cards_info?network=mainnet&state=activetype=all&page=9&limit=15\n"
     ]
    },
    {
     "data": {
      "text/plain": [
       "{'id': 3486,\n",
       " 'owner': '0x4090eaA71aaaE6A57b88FeCdc5d8984598aDc0D6',\n",
       " 'payee': '',\n",
       " 'metaPtr': '',\n",
       " 'metadata': {'name': 'Low Budget Stories',\n",
       "  'description': 'I make funny and really engaging meme videos about topics related to cryptocurrencies and ethereum!!\\r\\n\\r\\nThe goal is simple. To expose crypto and the ethereum blockchain to all four corners of the world. To all children, all adults.\\xa0\\r\\n\\r\\nThis videos are educative and very engaging!\\r\\n\\r\\n\\r\\nOUR MISSION\\r\\nStrategically spreading the word of crypto like ethereum to the masses world wide so our future world would be crypto based.\\r\\n\\r\\nFund Us\\r\\nPlease we need the grant as we have been making videos tirelessly and have managed to shed light on cryptocurrency to quite a number of people. Check out our YouTube.\\r\\n\\r\\nMaking these videos is alot of work. Please support us in other to carry on with this project',\n",
       "  'image': 'https://c.gitcoin.co/grants/4160e43e807f1842858659fbac292ca4/WhatsApp_Image_2021-09-05_at_3.22.00_PM.jpeg',\n",
       "  'properties': {'projectWebsite': 'https://m.youtube.com/channel/UCqM1Yw5XfJ5rVwCntLy0KxA',\n",
       "   'projectGithub': '',\n",
       "   'projectMembers': ['dominicjazz244'],\n",
       "   'bannerImage': '',\n",
       "   'twitterHandle': 'Lowbudgetmemes1',\n",
       "   'keywords': ['social tokens',\n",
       "    'cryptography',\n",
       "    'notes',\n",
       "    'twitter',\n",
       "    'blog',\n",
       "    'scalability',\n",
       "    'security',\n",
       "    'education',\n",
       "    'community'],\n",
       "   'endDate': ''}}}"
      ]
     },
     "execution_count": 5,
     "metadata": {},
     "output_type": "execute_result"
    }
   ],
   "source": [
    "import copy\n",
    "\n",
    "grants = get_grants(copy.deepcopy(options), 10)\n",
    "\n",
    "cleaned_grants = [ convert_grant(grant) for grant in grants]\n",
    "cleaned_grants[2]"
   ]
  },
  {
   "cell_type": "code",
   "execution_count": 6,
   "id": "880c9642-9980-469f-b360-1de00ae20998",
   "metadata": {},
   "outputs": [
    {
     "data": {
      "text/plain": [
       "135"
      ]
     },
     "execution_count": 6,
     "metadata": {},
     "output_type": "execute_result"
    }
   ],
   "source": [
    "mongoengine.connect('grants')\n",
    "\n",
    "for grant in cleaned_grants:\n",
    "    grant = models.Grant(grant_id=grant['id'], owner=grant['owner'], payee=grant['payee'], metaPtr=grant['metaPtr'],\n",
    "                 metadata=models.Metadata(name=grant['metadata']['name'], description=grant['metadata']['description'], \n",
    "                                   image=grant['metadata']['image'], \n",
    "                                   properties=models.Project(\n",
    "                                            projectGithub=grant['metadata']['properties']['projectGithub'],\n",
    "                                            projectMembers=grant['metadata']['properties']['projectMembers'],\n",
    "                                            bannerImage=grant['metadata']['properties']['bannerImage'],\n",
    "                                            twitterHandle=grant['metadata']['properties']['twitterHandle'],\n",
    "                                            keywords=grant['metadata']['properties']['keywords'],\n",
    "                                            )\n",
    "                                  )\n",
    "                )\n",
    "    grant.save()\n",
    "    \n",
    "    \n",
    "models.Grant.objects.count()"
   ]
  },
  {
   "cell_type": "code",
   "execution_count": 117,
   "id": "ca168d26-e35a-434f-81b2-1ac9cbe1235d",
   "metadata": {},
   "outputs": [
    {
     "name": "stdout",
     "output_type": "stream",
     "text": [
      "{'requirements': None, 'address': '0xed628E601012cC6Fd57Dc0cede2A527cdc86A221', 'grant': DBRef('grant', 3035), 'date_modified': datetime.datetime(2021, 9, 8, 9, 21, 18, 85000), 'status': <Status.YES: 'yes'>, 'requirement': <Requirement.CORRECT_CATEGORY: 'correct_category'>, 'id': ObjectId('6138808e8c1e60869aaf80a5')}\n",
      "{'requirements': None, 'address': '0xed628E601012cC6Fd57Dc0cede2A527cdc86A221', 'grant': DBRef('grant', 3489), 'date_modified': datetime.datetime(2021, 9, 8, 9, 37, 24, 169000), 'status': <Status.YES: 'yes'>, 'requirement': <Requirement.CORRECT_CATEGORY: 'correct_category'>, 'id': ObjectId('613884548c1e60869aaf80a7')}\n",
      "{'requirements': None, 'address': '0xed628E601012cC6Fd57Dc0cede2A527cdc86A221', 'grant': DBRef('grant', 3487), 'date_modified': datetime.datetime(2021, 9, 8, 9, 59, 15, 800000), 'status': <Status.YES: 'yes'>, 'requirement': <Requirement.CORRECT_CATEGORY: 'correct_category'>, 'id': ObjectId('613889738c1e60869aaf80a9')}\n"
     ]
    }
   ],
   "source": [
    "address = '0xed628E601012cC6Fd57Dc0cede2A527cdc86A221'\n",
    "vote = models.Vote(address=address, grant=3487)\n",
    "vote.status=models.Status.YES\n",
    "vote.requirement=models.Requirement.CORRECT_CATEGORY\n",
    "vote.save()\n",
    "\n",
    "for vote in models.Vote.objects():\n",
    "    print(vote._data)"
   ]
  },
  {
   "cell_type": "code",
   "execution_count": 131,
   "id": "e8a46b2c-26ef-4699-af57-85785a64aa09",
   "metadata": {},
   "outputs": [
    {
     "name": "stdout",
     "output_type": "stream",
     "text": [
      "{'_id': 2996, 'owner': '0xD80eb449dCaB7915B1BB82cD06c250c255d5D763', 'payee': '', 'metaPtr': '', 'metadata': {'name': 'Cedge - Not only a Open Research Organization but a BUIDL DAO', 'description': 'Cedge is not only a Open Research Organization but a BUIDL DAO . We are Researching the frontier of crypto like DeFi , DeFi , DAO and so on . We are Building interesting and useful products . \\r\\n\\r\\nNow , we are building a BUIDL community and help new hand work on crypto and earn cryptocurrency and then help the crypto grow . So we are not only participating in Hack Money , but also organizing new-hand hacks  to participate in it .\\r\\n\\r\\nNext step , we will continue to research, discuss and write around various cutting-edge topics . We will continue to solve cutting-edge problems in crypto . We will help more and more people enjoy crypto and help them realize their value .', 'image': 'https://c.gitcoin.co/grants/2b4aaea100b6054548f07965be780c5b/I-40mVHm_400x400.jpg', 'properties': {'projectGithub': '', 'projectMembers': ['0xtaosu'], 'bannerImage': '', 'twitterHandle': 'cedge_dao', 'keywords': ['community', 'DAOs'], 'endDate': None}}, 'date_modified': datetime.datetime(2021, 9, 8, 7, 58, 45, 797000), 'votes': [], 'score': 0}\n"
     ]
    }
   ],
   "source": [
    "voted_grants = [ x.grant_id for x in models.Vote.objects(address=address).only('grant').distinct(field=\"grant\") ]\n",
    "voted_grants\n",
    "\n",
    "pipeline = [\n",
    "    { '$match': {'_id': {'$nin': voted_grants}} },\n",
    "    { \n",
    "        '$lookup': {\n",
    "            'from': 'vote',\n",
    "            'localField': '_id',\n",
    "            'foreignField': 'grant',\n",
    "            'as': 'votes'\n",
    "    }},\n",
    "    { '$addFields': {'score': {'$size': \"$votes\"} } },\n",
    "    { '$sort': { 'score': 1} },\n",
    "    { '$limit': 1 },\n",
    "]\n",
    "\n",
    "for doc in models.Grant.objects().aggregate(pipeline):\n",
    "    print(doc)"
   ]
  },
  {
   "cell_type": "code",
   "execution_count": 13,
   "id": "7381cce8-9808-443b-871a-216e65c81473",
   "metadata": {},
   "outputs": [],
   "source": [
    "user = cleaned_grants[0]['metadata']['properties']['projectMembers'][0]\n",
    "user_request = requests.get(f'https://gitcoin.co/zoek1/trust')\n",
    "soup = BeautifulSoup(user_request.text, 'html.parser')"
   ]
  },
  {
   "cell_type": "code",
   "execution_count": 14,
   "id": "e17d624e-6ebe-4f88-81f0-83b804a723d4",
   "metadata": {},
   "outputs": [
    {
     "data": {
      "text/plain": [
       "<script src=\"https://s.gitcoin.co/static/v2/bundled/js/profile.540e22.5c354b2a883f.js\"></script>"
      ]
     },
     "execution_count": 14,
     "metadata": {},
     "output_type": "execute_result"
    }
   ],
   "source": [
    "for script in soup.find_all('script'):\n",
    "    pattern = r'\\w+document.services.*'\n",
    "    if re.search(pattern, script.text):\n",
    "        break\n",
    "script"
   ]
  },
  {
   "cell_type": "code",
   "execution_count": 15,
   "id": "af06c096-c6e3-4abc-8db6-aeb131610500",
   "metadata": {},
   "outputs": [
    {
     "name": "stdout",
     "output_type": "stream",
     "text": [
      "[{'id': 'QmTgHu5P12FusLHmeHZWmvKLbvrkdrGP6FTMazKNgbRghT', 'voter': '0xed628E601012cC6Fd57Dc0cede2A527cdc86A221', 'created': 1623906465, 'choice': 1, 'proposal': {'id': 'QmZTskr6yb4tSF7Jnnvd5a2YsuJJBDveEv4hbK6QJM83SB', 'title': 'GR10 Matching Pool: Use Gitcoin to build GitcoinDAO', 'body': 'This proposal seeks to add a $50k DAI “side round” to Gitcoin Grants Round 10 (with funds outside of the current matching pool) in support of those who are building components, prototypes, products, and tools for GitcoinDAO.\\n\\nProposal & Stake - $50k in funds for the DAO, from Gitcoin Holdings Inc., pledged towards this matching round, to build GitcoinDAO.\\n\\nDeliberation - Through discussion on this proposal and a Snapshot vote, the stewards will ratify the creation of a $50k side-round for GR10 that creates a matching pool for anyone working on the DAO.\\n\\nImplementation - The community will be invited to post Grants for their GitcoinDAO related work. The $50k from Gitcoin Holdings will be sent to the multisig. The round will be run, and paid out as per normal.\\n\\nRead more here: https://gov.gitcoin.co/t/proposal-gr10-matching-pool-use-gitcoin-to-build-gitcoindao/6372', 'choices': ['Yes $50k to fund GTCDAO building', 'No, no soup for you'], 'start': 1623790800, 'end': 1623938400, 'snapshot': '12641178', 'state': 'closed', 'author': '0x34aA3F359A9D614239015126635CE7732c18fDF3'}, 'space': {'id': 'gitcoindao.eth'}}]\n"
     ]
    }
   ],
   "source": [
    "from gql import gql, Client\n",
    "from gql.transport.requests import RequestsHTTPTransport\n",
    "\n",
    "def get_user_votes(user):\n",
    "    # Select your transport with a defined url endpoint\n",
    "    transport = RequestsHTTPTransport(url=\"https://hub.snapshot.org/graphql\")\n",
    "\n",
    "    # Create a GraphQL client using the defined transport\n",
    "    client = Client(transport=transport, fetch_schema_from_transport=True)\n",
    "\n",
    "    # Provide a GraphQL query\n",
    "    query = gql(\"\"\"\n",
    "    query Votes {\n",
    "      votes (\n",
    "        first: 1000\n",
    "        skip: 0\n",
    "        where: {\n",
    "          voter: \"user_address\"\n",
    "          space: \"gitcoindao.eth\"\n",
    "        }\n",
    "        orderBy: \"created\",\n",
    "        orderDirection: desc\n",
    "      ) {\n",
    "        id\n",
    "        voter\n",
    "        created\n",
    "        choice\n",
    "        proposal {\n",
    "          id\n",
    "          title\n",
    "          body\n",
    "          choices\n",
    "          start\n",
    "          end\n",
    "          snapshot\n",
    "          state\n",
    "          author \n",
    "        }\n",
    "        space {\n",
    "          id\n",
    "        }\n",
    "      }\n",
    "    }\n",
    "    \"\"\".replace('user_address', user)\n",
    "    )\n",
    "\n",
    "    # Execute the query on the transport\n",
    "    return client.execute(query)['votes']\n",
    "votes = get_user_votes('0xed628E601012cC6Fd57Dc0cede2A527cdc86A221')\n",
    "print(votes)"
   ]
  },
  {
   "cell_type": "code",
   "execution_count": 16,
   "id": "d0ed5924-6e61-4580-8835-8b0751b8d6b3",
   "metadata": {},
   "outputs": [],
   "source": [
    "def get_proposals():\n",
    "    client = Client(transport=transport, fetch_schema_from_transport=True)\n",
    "    query = gql(\"\"\"\n",
    "query Proposals {\n",
    "  proposals (\n",
    "    where: {\n",
    "      space_in: [\"gitcoindao.eth\"],\n",
    "      state: \"closed\"\n",
    "    },\n",
    "    orderBy: \"created\",\n",
    "    orderDirection: desc\n",
    "  ) {\n",
    "    id\n",
    "    title\n",
    "    body\n",
    "    choices\n",
    "    start\n",
    "    end\n",
    "    snapshot\n",
    "    state\n",
    "    author\n",
    "    space {\n",
    "      id\n",
    "      name\n",
    "    }\n",
    "  }\n",
    "}\n",
    "    \"\"\")\n",
    "\n",
    "    return client.execute(query)['proposals']"
   ]
  },
  {
   "cell_type": "code",
   "execution_count": 17,
   "id": "3abcba78-a680-4a79-9fae-822b63be5350",
   "metadata": {},
   "outputs": [
    {
     "name": "stdout",
     "output_type": "stream",
     "text": [
      "{'id': 'QmTgHu5P12FusLHmeHZWmvKLbvrkdrGP6FTMazKNgbRghT', 'voter': '0xed628E601012cC6Fd57Dc0cede2A527cdc86A221', 'created': 1623906465, 'choice': 1, 'proposal': {'id': 'QmZTskr6yb4tSF7Jnnvd5a2YsuJJBDveEv4hbK6QJM83SB', 'title': 'GR10 Matching Pool: Use Gitcoin to build GitcoinDAO', 'body': 'This proposal seeks to add a $50k DAI “side round” to Gitcoin Grants Round 10 (with funds outside of the current matching pool) in support of those who are building components, prototypes, products, and tools for GitcoinDAO.\\n\\nProposal & Stake - $50k in funds for the DAO, from Gitcoin Holdings Inc., pledged towards this matching round, to build GitcoinDAO.\\n\\nDeliberation - Through discussion on this proposal and a Snapshot vote, the stewards will ratify the creation of a $50k side-round for GR10 that creates a matching pool for anyone working on the DAO.\\n\\nImplementation - The community will be invited to post Grants for their GitcoinDAO related work. The $50k from Gitcoin Holdings will be sent to the multisig. The round will be run, and paid out as per normal.\\n\\nRead more here: https://gov.gitcoin.co/t/proposal-gr10-matching-pool-use-gitcoin-to-build-gitcoindao/6372', 'choices': ['Yes $50k to fund GTCDAO building', 'No, no soup for you'], 'start': 1623790800, 'end': 1623938400, 'snapshot': '12641178', 'state': 'closed', 'author': '0x34aA3F359A9D614239015126635CE7732c18fDF3'}, 'space': {'id': 'gitcoindao.eth'}}\n"
     ]
    },
    {
     "data": {
      "text/plain": [
       "1.674"
      ]
     },
     "execution_count": 17,
     "metadata": {},
     "output_type": "execute_result"
    }
   ],
   "source": [
    "def final_result_for_proposal(proposal):\n",
    "    transport = RequestsHTTPTransport(url=\"https://hub.snapshot.org/graphql\", verify=True, retries=3,)\n",
    "\n",
    "    client = Client(transport=transport, fetch_schema_from_transport=True)\n",
    "\n",
    "    query = gql(\"\"\"\n",
    "query Votes {\n",
    "  votes (\n",
    "    first: 1000\n",
    "    skip: 0\n",
    "    where: {\n",
    "      proposal: \"proposal_id\"\n",
    "      space: \"gitcoindao.eth\"\n",
    "    }\n",
    "    orderBy: \"created\",\n",
    "    orderDirection: desc\n",
    "  ) {\n",
    "    id\n",
    "    voter\n",
    "    created\n",
    "    choice\n",
    "  }\n",
    "}\n",
    "\"\"\".replace('proposal_id', proposal['id']))\n",
    "    votes = client.execute(query)['votes']\n",
    "    choices = { x: 0 for x in range(1, len(proposal['choices'])+ 1) }\n",
    "    for vote in votes:\n",
    "        choices[vote['choice']] += 1\n",
    "        \n",
    "    \n",
    "    return choices\n",
    "\n",
    "\n",
    "def calculate_gtc_reputation(user):\n",
    "    votes = get_user_votes(user)\n",
    "    score = 0\n",
    "    for vote in votes:\n",
    "        choices = final_result_for_proposal(vote['proposal'])\n",
    "        print(vote)\n",
    "        \n",
    "        score += 1 + (choices[vote['choice']]/1000)\n",
    "        \n",
    "    return score\n",
    "\n",
    "calculate_gtc_reputation('0xed628E601012cC6Fd57Dc0cede2A527cdc86A221')"
   ]
  }
 ],
 "metadata": {
  "kernelspec": {
   "display_name": "Python 3 (ipykernel)",
   "language": "python",
   "name": "python3"
  },
  "language_info": {
   "codemirror_mode": {
    "name": "ipython",
    "version": 3
   },
   "file_extension": ".py",
   "mimetype": "text/x-python",
   "name": "python",
   "nbconvert_exporter": "python",
   "pygments_lexer": "ipython3",
   "version": "3.8.10"
  }
 },
 "nbformat": 4,
 "nbformat_minor": 5
}
